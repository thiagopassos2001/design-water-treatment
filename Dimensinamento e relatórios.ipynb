{
 "cells": [
  {
   "cell_type": "code",
   "execution_count": 11,
   "metadata": {
    "colab": {
     "base_uri": "https://localhost:8080/"
    },
    "executionInfo": {
     "elapsed": 2411,
     "status": "ok",
     "timestamp": 1680824644820,
     "user": {
      "displayName": "Thiago Passos Oliveira",
      "userId": "12108629971071285052"
     },
     "user_tz": 180
    },
    "id": "DEdAqs3ZGP-A",
    "outputId": "76fd6962-9a24-48cf-a573-3285d8cf9a58"
   },
   "outputs": [],
   "source": [
    "# Imports\n",
    "import DesignWaterTreatment as DWT\n",
    "from docxtpl import DocxTemplate"
   ]
  },
  {
   "cell_type": "markdown",
   "metadata": {},
   "source": [
    "Observação: nos templates, utilizar chaves da segunte forma sobre a variável **x** a ser alterada:\n",
    "\n",
    "* \"{{x}}\"\n",
    "\n",
    "Para demais modificações consultar a documentação de **docxtpl**"
   ]
  },
  {
   "cell_type": "markdown",
   "metadata": {},
   "source": [
    "## Pré-tratamento"
   ]
  },
  {
   "cell_type": "markdown",
   "metadata": {},
   "source": [
    "### Gradeamento"
   ]
  },
  {
   "cell_type": "code",
   "execution_count": 9,
   "metadata": {
    "colab": {
     "base_uri": "https://localhost:8080/",
     "height": 623
    },
    "executionInfo": {
     "elapsed": 330,
     "status": "error",
     "timestamp": 1680825183715,
     "user": {
      "displayName": "Thiago Passos Oliveira",
      "userId": "12108629971071285052"
     },
     "user_tz": 180
    },
    "id": "9Bw843D07TDo",
    "outputId": "ce219d08-525a-4a3c-ee96-6393650b5574"
   },
   "outputs": [
    {
     "name": "stdout",
     "output_type": "stream",
     "text": [
      "####################RESULTADOS####################\n",
      "----------------REQUISITOS MÍNIMOS----------------\n",
      "Área útil (mínimo de 1.7 cm².min/L): 0.306 m²\n",
      "Largura Útil: 1.02 m\n",
      "Velocidade no gradeamento (máxima de 10 cm/s): 9.804 cm/s\n",
      "-------------------GRADEAMENTO--------------------\n",
      "Número de barras de 1.0 cm: 11.2\n",
      "Espaçamento livre entre barras: 10.0 cm\n",
      "Altura do Canal: 1.5 m\n",
      "Comprimento da Grade: 1.553 m\n",
      "Largura do Canal e Grade: 1.22 m\n",
      "-------------VERIFICAR PERDA DE CARGA-------------\n",
      "Velocidade com 50% de obstrução à montante: 0.164 m/s\n",
      "Constante k: 0.081\n",
      "Perda de carga: 0.011 m\n",
      "##################################################\n"
     ]
    }
   ],
   "source": [
    "# Gerar memorial\n",
    "report = True\n",
    "\n",
    "# Dimensionamento\n",
    "bar_screens = DWT.DesignBarScreens(1,10,30,0.3,1.3,75,1.79,logs=True)\n",
    "\n",
    "if report:\n",
    "    # Template\n",
    "    template_path = 'Modelo de Memorial/Pré-tratamento/Gradeamento/Modelo - Memorial de Cálculo - Gradeamento.docx'\n",
    "    template = DocxTemplate(template_path)\n",
    "\n",
    "    # Adaptar saída do dimensionamento ao template\n",
    "    template_fill = dict()\n",
    "    n = 3\n",
    "    for key in bar_screens:\n",
    "        try:\n",
    "            template_fill[key] = str(round(bar_screens[key],n)) + '0'*(n - len(str(round(bar_screens[key],3)).split('.')[1]))\n",
    "        except:\n",
    "            template_fill[key] = bar_screens[key]\n",
    "\n",
    "    # Substituir dados no template\n",
    "    template.render(template_fill)\n",
    "    template.save( r'Memorial de Cálculo - Gradeamento.docx')"
   ]
  }
 ],
 "metadata": {
  "colab": {
   "authorship_tag": "ABX9TyMELhPunu0TeB+/lBLGWSIm",
   "provenance": []
  },
  "kernelspec": {
   "display_name": "Python 3 (ipykernel)",
   "language": "python",
   "name": "python3"
  },
  "language_info": {
   "codemirror_mode": {
    "name": "ipython",
    "version": 3
   },
   "file_extension": ".py",
   "mimetype": "text/x-python",
   "name": "python",
   "nbconvert_exporter": "python",
   "pygments_lexer": "ipython3",
   "version": "3.9.12"
  }
 },
 "nbformat": 4,
 "nbformat_minor": 1
}
